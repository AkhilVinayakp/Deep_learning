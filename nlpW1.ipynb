{
  "nbformat": 4,
  "nbformat_minor": 0,
  "metadata": {
    "colab": {
      "name": "nlpW1.ipynb",
      "provenance": [],
      "authorship_tag": "ABX9TyNAhUUGOtxtwQHW3NmO6cs8",
      "include_colab_link": true
    },
    "kernelspec": {
      "name": "python3",
      "display_name": "Python 3"
    }
  },
  "cells": [
    {
      "cell_type": "markdown",
      "metadata": {
        "id": "view-in-github",
        "colab_type": "text"
      },
      "source": [
        "<a href=\"https://colab.research.google.com/github/AkhilVinayakp/Deep_learning/blob/main/nlpW1.ipynb\" target=\"_parent\"><img src=\"https://colab.research.google.com/assets/colab-badge.svg\" alt=\"Open In Colab\"/></a>"
      ]
    },
    {
      "cell_type": "code",
      "metadata": {
        "id": "bisZvmJ9HUNR"
      },
      "source": [
        "import nltk"
      ],
      "execution_count": null,
      "outputs": []
    },
    {
      "cell_type": "code",
      "metadata": {
        "id": "oGA2R9SsHYOC"
      },
      "source": [
        "sen = \"hi how do yo do, last time i checked you are not there\""
      ],
      "execution_count": null,
      "outputs": []
    },
    {
      "cell_type": "code",
      "metadata": {
        "id": "6dUXnMl9HqgU"
      },
      "source": [
        "tokenizer = nltk.tokenize.WhitespaceTokenizer()"
      ],
      "execution_count": null,
      "outputs": []
    },
    {
      "cell_type": "code",
      "metadata": {
        "colab": {
          "base_uri": "https://localhost:8080/"
        },
        "id": "A_WMk7TKH2al",
        "outputId": "c3972b04-0eef-4371-81fc-a6b7a79997f9"
      },
      "source": [
        "tokenizer.tokenize(sen)"
      ],
      "execution_count": null,
      "outputs": [
        {
          "output_type": "execute_result",
          "data": {
            "text/plain": [
              "['hi',\n",
              " 'how',\n",
              " 'do',\n",
              " 'yo',\n",
              " 'do,',\n",
              " 'last',\n",
              " 'time',\n",
              " 'i',\n",
              " 'checked',\n",
              " 'you',\n",
              " 'are',\n",
              " 'not',\n",
              " 'there']"
            ]
          },
          "metadata": {
            "tags": []
          },
          "execution_count": 6
        }
      ]
    },
    {
      "cell_type": "code",
      "metadata": {
        "id": "R8x-OAS2IEQ9"
      },
      "source": [
        "# using punctuations to separate the tokens\r\n",
        "tok = nltk.tokenize.WordPunctTokenizer()\r\n",
        "# using rule based tokenizer\r\n",
        "tok2 = nltk.tokenize.TreebankWordTokenizer()"
      ],
      "execution_count": null,
      "outputs": []
    },
    {
      "cell_type": "code",
      "metadata": {
        "id": "hVMFz8upIieU"
      },
      "source": [
        "sen = \"you are not allowed to come here is'nt it?\""
      ],
      "execution_count": null,
      "outputs": []
    },
    {
      "cell_type": "code",
      "metadata": {
        "colab": {
          "base_uri": "https://localhost:8080/"
        },
        "id": "Tl8KkNBRIvRM",
        "outputId": "306e140f-9150-4488-83b0-288f386d873e"
      },
      "source": [
        "tok.tokenize(sen)"
      ],
      "execution_count": null,
      "outputs": [
        {
          "output_type": "execute_result",
          "data": {
            "text/plain": [
              "['you',\n",
              " 'are',\n",
              " 'not',\n",
              " 'allowed',\n",
              " 'to',\n",
              " 'come',\n",
              " 'here',\n",
              " 'is',\n",
              " \"'\",\n",
              " 'nt',\n",
              " 'it',\n",
              " '?']"
            ]
          },
          "metadata": {
            "tags": []
          },
          "execution_count": 9
        }
      ]
    },
    {
      "cell_type": "code",
      "metadata": {
        "colab": {
          "base_uri": "https://localhost:8080/"
        },
        "id": "fGWCjw9HIyCc",
        "outputId": "1d97f125-5d28-4446-8aea-416e4aa83ecf"
      },
      "source": [
        "tok2.tokenize(sen)"
      ],
      "execution_count": null,
      "outputs": [
        {
          "output_type": "execute_result",
          "data": {
            "text/plain": [
              "['you', 'are', 'not', 'allowed', 'to', 'come', 'here', \"is'nt\", 'it', '?']"
            ]
          },
          "metadata": {
            "tags": []
          },
          "execution_count": 10
        }
      ]
    },
    {
      "cell_type": "code",
      "metadata": {
        "id": "0LaaXQMfI3-N"
      },
      "source": [
        "sen = \"This is Andrew's text isn't it?\""
      ],
      "execution_count": null,
      "outputs": []
    },
    {
      "cell_type": "code",
      "metadata": {
        "colab": {
          "base_uri": "https://localhost:8080/"
        },
        "id": "i5gIOdNNJG6d",
        "outputId": "f8339f4c-c886-4c93-e2f3-4348efb61ff3"
      },
      "source": [
        "tok2.tokenize(sen)"
      ],
      "execution_count": null,
      "outputs": [
        {
          "output_type": "execute_result",
          "data": {
            "text/plain": [
              "['This', 'is', 'Andrew', \"'s\", 'text', 'is', \"n't\", 'it', '?']"
            ]
          },
          "metadata": {
            "tags": []
          },
          "execution_count": 14
        }
      ]
    },
    {
      "cell_type": "code",
      "metadata": {
        "id": "58bjQCG2JJ8M"
      },
      "source": [
        "#  Token Noramilazation using PorterStemmer and WordNetLemmatizer\r\n",
        "#  PorterStemmer is for stemming and WordNetlemmatizer is for lemmatization"
      ],
      "execution_count": null,
      "outputs": []
    },
    {
      "cell_type": "code",
      "metadata": {
        "id": "cVmEnxqbRYVA"
      },
      "source": [
        "from nltk.stem import WordNetLemmatizer"
      ],
      "execution_count": null,
      "outputs": []
    },
    {
      "cell_type": "code",
      "metadata": {
        "id": "lvUcahYIUSaH"
      },
      "source": [
        "from nltk.stem import PorterStemmer"
      ],
      "execution_count": null,
      "outputs": []
    },
    {
      "cell_type": "code",
      "metadata": {
        "id": "xmsUunh9VHiN"
      },
      "source": [
        "sen = \"feets cats wolves talked\""
      ],
      "execution_count": null,
      "outputs": []
    },
    {
      "cell_type": "code",
      "metadata": {
        "id": "GaJjb9VTUXi0"
      },
      "source": [
        "tokens  = tok2.tokenize(sen)"
      ],
      "execution_count": null,
      "outputs": []
    },
    {
      "cell_type": "code",
      "metadata": {
        "id": "8jNs6bTnUkV8"
      },
      "source": [
        "# initializing the porterStemmer for stemming\r\n",
        "stem = PorterStemmer()"
      ],
      "execution_count": null,
      "outputs": []
    },
    {
      "cell_type": "code",
      "metadata": {
        "id": "CMPTjwfTU0ls"
      },
      "source": [
        "# stem the tokens\r\n",
        "stemmed = ( stem.stem(token) for token in tokens)"
      ],
      "execution_count": null,
      "outputs": []
    },
    {
      "cell_type": "code",
      "metadata": {
        "colab": {
          "base_uri": "https://localhost:8080/"
        },
        "id": "E4S0XcubWYQc",
        "outputId": "3527733f-75a4-43ba-e796-49035d38d288"
      },
      "source": [
        "\" \".join(stemmed).split(' ')"
      ],
      "execution_count": null,
      "outputs": [
        {
          "output_type": "execute_result",
          "data": {
            "text/plain": [
              "['feet', 'cat', 'wolv', 'talk']"
            ]
          },
          "metadata": {
            "tags": []
          },
          "execution_count": 39
        }
      ]
    },
    {
      "cell_type": "code",
      "metadata": {
        "id": "zPFcoTBqVY7c"
      },
      "source": [
        "# using WordNetLemmatizer for lemmatization"
      ],
      "execution_count": null,
      "outputs": []
    },
    {
      "cell_type": "code",
      "metadata": {
        "id": "WsBEKV1PVsI8"
      },
      "source": [
        "lemma = WordNetLemmatizer()"
      ],
      "execution_count": null,
      "outputs": []
    },
    {
      "cell_type": "code",
      "metadata": {
        "id": "ijPlE-msVz4M"
      },
      "source": [
        "l =(lemma.lemmatize(token) for token in tokens)"
      ],
      "execution_count": null,
      "outputs": []
    },
    {
      "cell_type": "code",
      "metadata": {
        "colab": {
          "base_uri": "https://localhost:8080/"
        },
        "id": "0l5aMKbjV6o0",
        "outputId": "aeb4a5c8-2472-4941-9cf0-b4626beb4a9d"
      },
      "source": [
        "l"
      ],
      "execution_count": null,
      "outputs": [
        {
          "output_type": "execute_result",
          "data": {
            "text/plain": [
              "<generator object <genexpr> at 0x7feaef69a2b0>"
            ]
          },
          "metadata": {
            "tags": []
          },
          "execution_count": 46
        }
      ]
    },
    {
      "cell_type": "code",
      "metadata": {
        "id": "Eeyx_hkUYjja"
      },
      "source": [
        "for i in l:\r\n",
        "  print(i)"
      ],
      "execution_count": null,
      "outputs": []
    },
    {
      "cell_type": "markdown",
      "metadata": {
        "id": "Eu925virYu4L"
      },
      "source": [
        ""
      ]
    },
    {
      "cell_type": "code",
      "metadata": {
        "id": "2Dzk7gWhYqfj"
      },
      "source": [
        ""
      ],
      "execution_count": null,
      "outputs": []
    }
  ]
}