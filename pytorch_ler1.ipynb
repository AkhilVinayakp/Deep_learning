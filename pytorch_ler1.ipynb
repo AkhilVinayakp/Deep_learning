{
  "nbformat": 4,
  "nbformat_minor": 0,
  "metadata": {
    "colab": {
      "name": "pytorch.ipynb",
      "provenance": [],
      "authorship_tag": "ABX9TyPLWZC56FDEOaP0L0/zKh+l",
      "include_colab_link": true
    },
    "kernelspec": {
      "name": "python3",
      "display_name": "Python 3"
    }
  },
  "cells": [
    {
      "cell_type": "markdown",
      "metadata": {
        "id": "view-in-github",
        "colab_type": "text"
      },
      "source": [
        "<a href=\"https://colab.research.google.com/github/AkhilVinayakp/Deep_learning/blob/main/pytorch_ler1.ipynb\" target=\"_parent\"><img src=\"https://colab.research.google.com/assets/colab-badge.svg\" alt=\"Open In Colab\"/></a>"
      ]
    },
    {
      "cell_type": "code",
      "metadata": {
        "id": "fycQuDZUv6IO"
      },
      "source": [
        "import torch"
      ],
      "execution_count": null,
      "outputs": []
    },
    {
      "cell_type": "code",
      "metadata": {
        "id": "AzpdTFoDzp3F"
      },
      "source": [
        "from torch import nn"
      ],
      "execution_count": null,
      "outputs": []
    },
    {
      "cell_type": "code",
      "metadata": {
        "id": "o4SXNSD-z3Db"
      },
      "source": [
        "class LogReg(nn.Model):\r\n",
        "  def __init__(self, inp):\r\n",
        "    super().__init__()\r\n",
        "    self.log_reg = nn.Sequential(\r\n",
        "        nn.Linear(inp, 1),\r\n",
        "        nn.Sigmoid() # activation\r\n",
        "    )\r\n",
        "    def forward(self, x):\r\n",
        "      return self.log_reg(x)\r\n",
        "    "
      ],
      "execution_count": null,
      "outputs": []
    },
    {
      "cell_type": "code",
      "metadata": {
        "id": "U-ECXD_dUOxk"
      },
      "source": [
        "# getting started with tenso"
      ],
      "execution_count": 1,
      "outputs": []
    },
    {
      "cell_type": "code",
      "metadata": {
        "id": "kWWROwnxUV4A"
      },
      "source": [
        "import torch"
      ],
      "execution_count": 2,
      "outputs": []
    },
    {
      "cell_type": "code",
      "metadata": {
        "id": "8TsKbX1Xd7BH"
      },
      "source": [
        "data = [\r\n",
        "        [1,2],\r\n",
        "        [2,4]\r\n",
        "]"
      ],
      "execution_count": 3,
      "outputs": []
    },
    {
      "cell_type": "code",
      "metadata": {
        "id": "Pn318By2eOy2"
      },
      "source": [
        "ten = torch.Tensor(data)"
      ],
      "execution_count": 4,
      "outputs": []
    },
    {
      "cell_type": "code",
      "metadata": {
        "colab": {
          "base_uri": "https://localhost:8080/"
        },
        "id": "KdwRsjz3eSY2",
        "outputId": "80a0cacc-8457-412e-bd9e-4c6ecced3ab3"
      },
      "source": [
        "ten"
      ],
      "execution_count": 5,
      "outputs": [
        {
          "output_type": "execute_result",
          "data": {
            "text/plain": [
              "tensor([[1., 2.],\n",
              "        [2., 4.]])"
            ]
          },
          "metadata": {
            "tags": []
          },
          "execution_count": 5
        }
      ]
    },
    {
      "cell_type": "code",
      "metadata": {
        "id": "jAVRJLG8eT5u"
      },
      "source": [
        "example_tensor = torch.Tensor(\r\n",
        "    [\r\n",
        "     [[1, 2], [3, 4]], \r\n",
        "     [[5, 6], [7, 8]], \r\n",
        "     [[9, 0], [1, 2]]\r\n",
        "    ]\r\n",
        ")"
      ],
      "execution_count": 6,
      "outputs": []
    },
    {
      "cell_type": "code",
      "metadata": {
        "colab": {
          "base_uri": "https://localhost:8080/"
        },
        "id": "M0trtfN-edTW",
        "outputId": "c5399197-2b62-4a86-cd5f-31a8770efda4"
      },
      "source": [
        "example_tensor"
      ],
      "execution_count": 7,
      "outputs": [
        {
          "output_type": "execute_result",
          "data": {
            "text/plain": [
              "tensor([[[1., 2.],\n",
              "         [3., 4.]],\n",
              "\n",
              "        [[5., 6.],\n",
              "         [7., 8.]],\n",
              "\n",
              "        [[9., 0.],\n",
              "         [1., 2.]]])"
            ]
          },
          "metadata": {
            "tags": []
          },
          "execution_count": 7
        }
      ]
    },
    {
      "cell_type": "code",
      "metadata": {
        "colab": {
          "base_uri": "https://localhost:8080/"
        },
        "id": "QkPWCzMDefP-",
        "outputId": "7b1c2f48-f991-4b21-a381-f75c895e93f4"
      },
      "source": [
        "ten.device"
      ],
      "execution_count": 8,
      "outputs": [
        {
          "output_type": "execute_result",
          "data": {
            "text/plain": [
              "device(type='cpu')"
            ]
          },
          "metadata": {
            "tags": []
          },
          "execution_count": 8
        }
      ]
    },
    {
      "cell_type": "code",
      "metadata": {
        "colab": {
          "base_uri": "https://localhost:8080/"
        },
        "id": "z8I7EujaezD2",
        "outputId": "a0bbb6b8-0bc6-4170-b37a-27d3fd0c157c"
      },
      "source": [
        "ten.shape"
      ],
      "execution_count": 9,
      "outputs": [
        {
          "output_type": "execute_result",
          "data": {
            "text/plain": [
              "torch.Size([2, 2])"
            ]
          },
          "metadata": {
            "tags": []
          },
          "execution_count": 9
        }
      ]
    },
    {
      "cell_type": "code",
      "metadata": {
        "id": "MnFn3e2de9u2"
      },
      "source": [
        "ex = torch.Tensor(\r\n",
        "    [\r\n",
        "     [[1, 2], [3, 4]], \r\n",
        "     [[5, 6], [7, 8]], \r\n",
        "     [[9, 0], [1, 2]]\r\n",
        "    ]\r\n",
        ")"
      ],
      "execution_count": 12,
      "outputs": []
    },
    {
      "cell_type": "code",
      "metadata": {
        "colab": {
          "base_uri": "https://localhost:8080/"
        },
        "id": "wG_yVp3nfIiO",
        "outputId": "d07f220a-aec3-437e-efd1-253653c9310e"
      },
      "source": [
        "ex.shape"
      ],
      "execution_count": 13,
      "outputs": [
        {
          "output_type": "execute_result",
          "data": {
            "text/plain": [
              "torch.Size([3, 2, 2])"
            ]
          },
          "metadata": {
            "tags": []
          },
          "execution_count": 13
        }
      ]
    },
    {
      "cell_type": "code",
      "metadata": {
        "colab": {
          "base_uri": "https://localhost:8080/"
        },
        "id": "dcJ6oiiKfQG1",
        "outputId": "4c848700-5079-4de1-eaf2-c4bf1c19eb78"
      },
      "source": [
        "#  dimensions (rank) or the number of elements in a tensor\r\n",
        "print(len(ex.shape), ex.numel())"
      ],
      "execution_count": 15,
      "outputs": [
        {
          "output_type": "stream",
          "text": [
            "3 12\n"
          ],
          "name": "stdout"
        }
      ]
    },
    {
      "cell_type": "code",
      "metadata": {
        "colab": {
          "base_uri": "https://localhost:8080/"
        },
        "id": "E0X2SAsVfwpV",
        "outputId": "f9833fe8-7b22-44cc-89e6-2fa0233e7487"
      },
      "source": [
        "# indexing tensor using[]\r\n",
        "print(ex[1]) # values from first dim\r\n",
        "# getting the single element as a tensor\r\n",
        "print(ex[1,1,1]) # will return as tensor one element \r\n",
        "# converting the element to a scalar value\r\n",
        "print(ex[1,1,1].item())"
      ],
      "execution_count": 21,
      "outputs": [
        {
          "output_type": "stream",
          "text": [
            "tensor([[5., 6.],\n",
            "        [7., 8.]])\n",
            "tensor(8.)\n",
            "8.0\n"
          ],
          "name": "stdout"
        }
      ]
    },
    {
      "cell_type": "code",
      "metadata": {
        "id": "S2J73f-DglpH"
      },
      "source": [
        "# Tensor initialization methods\r\n",
        "# way 1 direct from data as above\r\n",
        "# way two from another tensor (by the same shape and device)\r\n",
        "# by specifing the shape and device\r\n",
        "\r\n"
      ],
      "execution_count": 23,
      "outputs": []
    },
    {
      "cell_type": "code",
      "metadata": {
        "id": "6018LOP2iWEU"
      },
      "source": [
        "# initilization using already existing tensor >> follows same shape and device\r\n",
        "\r\n",
        "# initializing wih 0 using zero_like and with 1 by using one_like\r\n",
        "# initializing with randn_like creates a tensor with every element sampled from a Normal (or Gaussian) distribution \r\n"
      ],
      "execution_count": 24,
      "outputs": []
    },
    {
      "cell_type": "code",
      "metadata": {
        "colab": {
          "base_uri": "https://localhost:8080/"
        },
        "id": "kqFBuwH8jja5",
        "outputId": "54c76bd1-8569-4801-fa6a-971f261ea87f"
      },
      "source": [
        "x = [\r\n",
        "     [[1,3],[2,4]],\r\n",
        "     [[6,7],[0,5]]\r\n",
        "     ]\r\n",
        "# torch.one_like\r\n",
        "x = torch.Tensor(x)\r\n",
        "one = torch.ones_like(x)\r\n",
        "print(one, one.shape, one.device)\r\n",
        "zero = torch.zeros_like(x)\r\n",
        "print(zero, zero.shape, zero.device)\r\n",
        "\r\n"
      ],
      "execution_count": 31,
      "outputs": [
        {
          "output_type": "stream",
          "text": [
            "tensor([[[1., 1.],\n",
            "         [1., 1.]],\n",
            "\n",
            "        [[1., 1.],\n",
            "         [1., 1.]]]) torch.Size([2, 2, 2]) cpu\n",
            "tensor([[[0., 0.],\n",
            "         [0., 0.]],\n",
            "\n",
            "        [[0., 0.],\n",
            "         [0., 0.]]]) torch.Size([2, 2, 2]) cpu\n"
          ],
          "name": "stdout"
        }
      ]
    },
    {
      "cell_type": "code",
      "metadata": {
        "id": "ovX9xsMmjp3R"
      },
      "source": [
        ""
      ],
      "execution_count": null,
      "outputs": []
    },
    {
      "cell_type": "code",
      "metadata": {
        "id": "n5ZSOJeyjpRz"
      },
      "source": [
        ""
      ],
      "execution_count": null,
      "outputs": []
    }
  ]
}